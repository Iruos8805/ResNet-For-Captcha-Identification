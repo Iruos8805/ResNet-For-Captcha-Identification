{
 "cells": [
  {
   "cell_type": "code",
   "execution_count": 2,
   "metadata": {
    "colab": {
     "base_uri": "https://localhost:8080/"
    },
    "id": "njeP7EqsfqGD",
    "outputId": "7eaac3cb-9630-4832-9bcc-bde71fce5a3d"
   },
   "outputs": [
    {
     "name": "stdout",
     "output_type": "stream",
     "text": [
      "Using device: cuda\n"
     ]
    }
   ],
   "source": [
    "import torch\n",
    "device = torch.device('cuda' if torch.cuda.is_available() else 'cpu')\n",
    "print(f\"Using device: {device}\")"
   ]
  },
  {
   "cell_type": "code",
   "execution_count": 3,
   "metadata": {
    "id": "ZIywbaZk7pr-"
   },
   "outputs": [],
   "source": [
    "data_dir = '/content/drive/MyDrive/CAPTCHA/captchas'"
   ]
  },
  {
   "cell_type": "code",
   "execution_count": 4,
   "metadata": {
    "id": "c88YuUD9-p_5"
   },
   "outputs": [],
   "source": [
    "import os\n",
    "import numpy as np\n",
    "from PIL import Image\n",
    "from sklearn.model_selection import train_test_split\n",
    "from torch.utils.data import Dataset, DataLoader\n",
    "\n",
    "import torch.nn as nn\n",
    "\n",
    "\n",
    "\n",
    "all_files = [f for f in os.listdir(data_dir) if f.endswith(('.png', '.jpg', '.jpeg'))]\n",
    "\n",
    "\n",
    "\n",
    "\n"
   ]
  },
  {
   "cell_type": "code",
   "execution_count": 5,
   "metadata": {
    "id": "OKhCZPCNjfMp"
   },
   "outputs": [],
   "source": [
    "import string\n",
    "\n",
    "# Define the character set (e.g., lowercase letters + digits)\n",
    "characters = string.ascii_lowercase + string.digits\n",
    "char_to_idx = {char: idx for idx, char in enumerate(characters)}\n",
    "\n",
    "# This function will encode each character of a label as its index\n",
    "def encode_label(label):\n",
    "    return [char_to_idx[char] for char in label]\n"
   ]
  },
  {
   "cell_type": "code",
   "execution_count": 6,
   "metadata": {
    "id": "k4cwLdTWjgxS"
   },
   "outputs": [],
   "source": [
    "\n",
    "images = []\n",
    "labels = []\n",
    "\n",
    "for img_file in all_files:\n",
    "    label = os.path.splitext(img_file.split('_')[1])[0].lower()\n",
    "    img_path = os.path.join(data_dir, img_file)\n",
    "    image = Image.open(img_path).convert('L')  # Convert to grayscale\n",
    "    image = image.resize((250, 50))  # Resize to consistent shape\n",
    "    images.append(np.array(image))\n",
    "    labels.append(encode_label(label))  # Convert label to list of indices\n",
    "\n",
    "\n",
    "# NumPy arrays\n",
    "images = np.array(images)/255.0\n",
    "labels = np.array(labels)\n",
    "\n",
    "X_train, X_test, y_train, y_test = train_test_split(images, labels, test_size=0.2, random_state=42)\n"
   ]
  },
  {
   "cell_type": "code",
   "execution_count": 7,
   "metadata": {
    "id": "7qZ1JDmsektb"
   },
   "outputs": [],
   "source": [
    "class CustomDataset(Dataset):\n",
    "    def __init__(self, features, labels):\n",
    "        self.features = torch.tensor(features, dtype=torch.float32).reshape(-1, 1, 50, 250)\n",
    "        self.labels = torch.tensor(labels, dtype=torch.long)  # shape: (N, 5)\n",
    "\n",
    "    def __len__(self):\n",
    "        return len(self.features)\n",
    "\n",
    "    def __getitem__(self, index):\n",
    "        return self.features[index], self.labels[index]  # label is a sequence\n"
   ]
  },
  {
   "cell_type": "code",
   "execution_count": 8,
   "metadata": {
    "id": "tbMSLQANfb0P"
   },
   "outputs": [],
   "source": [
    "train_dataset = CustomDataset(X_train, y_train)"
   ]
  },
  {
   "cell_type": "code",
   "execution_count": 9,
   "metadata": {
    "id": "HB4oXjkzfgfP"
   },
   "outputs": [],
   "source": [
    "test_dataset = CustomDataset(X_test, y_test)"
   ]
  },
  {
   "cell_type": "code",
   "execution_count": 10,
   "metadata": {
    "id": "zbNculCXfjnv"
   },
   "outputs": [],
   "source": [
    "train_loader = DataLoader(train_dataset, batch_size=32, shuffle=True, pin_memory=True)\n",
    "test_loader = DataLoader(test_dataset, batch_size=32, shuffle=False, pin_memory=True)"
   ]
  },
  {
   "cell_type": "code",
   "execution_count": 11,
   "metadata": {
    "id": "fSbd9M14ay8B"
   },
   "outputs": [],
   "source": [
    "class Resblock(nn.Module):\n",
    "    expansion = 4\n",
    "    def __init__(self, in_channels, out_channels, stride=1, downsample=None):\n",
    "        super(Resblock, self).__init__()\n",
    "\n",
    "        self.conv1 = nn.Conv2d(in_channels, out_channels, kernel_size=1, bias=False)\n",
    "        self.bn1 = nn.BatchNorm2d(out_channels)\n",
    "\n",
    "        self.conv2 = nn.Conv2d(out_channels, out_channels, kernel_size=3,\n",
    "                               stride=stride, padding=1, bias=False)\n",
    "        self.bn2 = nn.BatchNorm2d(out_channels)\n",
    "\n",
    "        self.conv3 = nn.Conv2d(out_channels, out_channels * self.expansion,\n",
    "                               kernel_size=1, bias=False)\n",
    "        self.bn3 = nn.BatchNorm2d(out_channels * self.expansion)\n",
    "\n",
    "        self.relu = nn.ReLU(inplace=True)\n",
    "        self.downsample = downsample\n",
    "\n",
    "\n",
    "    def forward(self, x):\n",
    "        identity = x\n",
    "\n",
    "        out = self.relu(self.bn1(self.conv1(x)))\n",
    "        out = self.relu(self.bn2(self.conv2(out)))\n",
    "        out = self.bn3(self.conv3(out))\n",
    "\n",
    "        if self.downsample is not None:\n",
    "            identity = self.downsample(x)\n",
    "\n",
    "        out += identity\n",
    "        out = self.relu(out)\n",
    "        return out"
   ]
  },
  {
   "cell_type": "code",
   "execution_count": 12,
   "metadata": {
    "id": "luWVFQq-fuaR"
   },
   "outputs": [],
   "source": [
    "class ResNetCaptcha(nn.Module):\n",
    "    def __init__(self, layers, num_classes=36, captcha_length=6):\n",
    "        super(ResNetCaptcha, self).__init__()\n",
    "        self.in_channels = 64\n",
    "        self.captcha_length = captcha_length\n",
    "        self.dropout = nn.Dropout(0.3)\n",
    "\n",
    "\n",
    "\n",
    "        self.conv1 = nn.Conv2d(1, 64, kernel_size=7, stride=2, padding=3, bias=False)\n",
    "        self.bn1   = nn.BatchNorm2d(64)\n",
    "        self.relu  = nn.ReLU(inplace=True)\n",
    "        self.maxpool = nn.MaxPool2d(kernel_size=3, stride=2, padding=1)\n",
    "\n",
    "        self.layer1 = self._make_layer(64,  layers[0])\n",
    "        self.layer2 = self._make_layer(128, layers[1], stride=2)\n",
    "        self.layer3 = self._make_layer(256, layers[2], stride=2)\n",
    "        self.layer4 = self._make_layer(512, layers[3], stride=2)\n",
    "\n",
    "        self.avgpool = nn.AdaptiveAvgPool2d((1, 1))\n",
    "        self.flatten = nn.Flatten()\n",
    "\n",
    "        feature_dim = 512 * Resblock.expansion\n",
    "        self.classifiers = nn.ModuleList([\n",
    "            nn.Linear(feature_dim, num_classes) for _ in range(captcha_length)\n",
    "        ])\n",
    "\n",
    "    def _make_layer(self, out_channels, blocks, stride=1):\n",
    "        downsample = None\n",
    "        if stride != 1 or self.in_channels != out_channels * Resblock.expansion:\n",
    "            downsample = nn.Sequential(\n",
    "                nn.Conv2d(self.in_channels, out_channels * Resblock.expansion,\n",
    "                          kernel_size=1, stride=stride, bias=False),\n",
    "                nn.BatchNorm2d(out_channels * Resblock.expansion)\n",
    "            )\n",
    "\n",
    "        layers = [Resblock(self.in_channels, out_channels, stride, downsample)]\n",
    "        self.in_channels = out_channels * Resblock.expansion\n",
    "\n",
    "        for _ in range(1, blocks):\n",
    "            layers.append(Resblock(self.in_channels, out_channels))\n",
    "\n",
    "        return nn.Sequential(*layers)\n",
    "\n",
    "    def forward(self, x):\n",
    "        x = self.relu(self.bn1(self.conv1(x)))\n",
    "        x = self.maxpool(x)\n",
    "\n",
    "        x = self.layer1(x)\n",
    "        x = self.layer2(x)\n",
    "        x = self.layer3(x)\n",
    "        x = self.layer4(x)\n",
    "\n",
    "        x = self.avgpool(x)\n",
    "        x = self.flatten(x)\n",
    "\n",
    "        x = self.dropout(x)\n",
    "\n",
    "        outputs = [classifier(x) for classifier in self.classifiers]\n",
    "        return torch.stack(outputs, dim=1)\n"
   ]
  },
  {
   "cell_type": "code",
   "execution_count": 13,
   "metadata": {
    "colab": {
     "base_uri": "https://localhost:8080/"
    },
    "id": "EL2BheXbi9gw",
    "outputId": "61069cd3-5e17-4644-ff9d-62821457fc6e"
   },
   "outputs": [
    {
     "name": "stdout",
     "output_type": "stream",
     "text": [
      "Epoch: 1, Loss: 3.3230948247909544\n",
      "Epoch: 2, Loss: 3.2361164817810057\n",
      "Epoch: 3, Loss: 2.9421387062072752\n",
      "Epoch: 4, Loss: 2.448337613105774\n",
      "Epoch: 5, Loss: 1.9678044419288636\n",
      "Epoch: 6, Loss: 1.531935585975647\n",
      "Epoch: 7, Loss: 1.1800109791755675\n",
      "Epoch: 8, Loss: 0.9580043959617615\n",
      "Epoch: 9, Loss: 0.8535511012077331\n",
      "Epoch: 10, Loss: 0.8003803825378418\n"
     ]
    }
   ],
   "source": [
    "import torch.optim as optim\n",
    "\n",
    "epochs = 10\n",
    "\n",
    "device = torch.device(\"cuda\" if torch.cuda.is_available() else \"cpu\")\n",
    "\n",
    "layers = [3, 4, 6, 3]\n",
    "\n",
    "model = ResNetCaptcha(layers=layers)\n",
    "model.to(device)\n",
    "\n",
    "criterion = nn.CrossEntropyLoss(label_smoothing=0.1)\n",
    "optimizer = torch.optim.Adam(model.parameters(), lr=0.0001)\n",
    "\n",
    "\n",
    "train_epoch_losses = []\n",
    "train_exact_match_accuracies = []\n",
    "\n",
    "for epoch in range(epochs):\n",
    "    total_epoch_loss = 0\n",
    "    correct_full = 0\n",
    "    total = 0\n",
    "\n",
    "    for batch_features, batch_labels in train_loader:\n",
    "\n",
    "        batch_features, batch_labels = batch_features.to(device), batch_labels.to(device)\n",
    "\n",
    "\n",
    "        outputs = model(batch_features)\n",
    "\n",
    "        # Assuming outputs are of shape [batch_size, captcha_length, num_classes]\n",
    "        # print(outputs.shape)  # Should be [batch_size, captcha_length, num_classes]\n",
    "        # print(batch_labels.shape)  # Should be [batch_size, captcha_length]\n",
    "\n",
    "        # # Reshape outputs and labels to match CrossEntropyLoss expectations\n",
    "        # outputs = outputs.view(-1, outputs.shape[-1])  # Flatten the captcha_length dimension\n",
    "        # batch_labels = batch_labels.view(-1)  # Flatten the captcha_length dimension\n",
    "\n",
    "\n",
    "        # Compute loss\n",
    "        loss = criterion(outputs.view(-1, outputs.shape[-1]), batch_labels.view(-1))\n",
    "\n",
    "\n",
    "        optimizer.zero_grad()\n",
    "        loss.backward()\n",
    "\n",
    "\n",
    "        optimizer.step()\n",
    "\n",
    "        total_epoch_loss += loss.item()\n",
    "\n",
    "          # Compute exact match accuracy\n",
    "        with torch.no_grad():\n",
    "            predicted = torch.argmax(outputs, dim=2)  # [batch_size, captcha_length]\n",
    "            correct_full += (predicted == batch_labels).all(dim=1).sum().item()\n",
    "            total += batch_labels.size(0)\n",
    "\n",
    "    exact_match_acc_train = correct_full / total\n",
    "    avg_loss_train = total_epoch_loss / len(train_loader)\n",
    "    train_epoch_losses.append(avg_loss_train)\n",
    "    train_exact_match_accuracies.append(exact_match_acc_train)\n",
    "    print(f'Epoch: {epoch + 1}, Loss: {avg_loss_train}')\n"
   ]
  },
  {
   "cell_type": "code",
   "execution_count": 14,
   "metadata": {
    "colab": {
     "base_uri": "https://localhost:8080/",
     "height": 491
    },
    "id": "3bl1JMg7erad",
    "outputId": "7669da73-4fec-4a85-8256-3c55b5f121ed"
   },
   "outputs": [
    {
     "data": {
      "image/png": "[encoded data removed]",
      "text/plain": [
       "<Figure size 1800x500 with 2 Axes>"
      ]
     },
     "metadata": {},
     "output_type": "display_data"
    }
   ],
   "source": [
    "import matplotlib.pyplot as plt\n",
    "\n",
    "plt.figure(figsize=(18, 5))\n",
    "\n",
    "epoch_list = [1,2,3,4,5,6,7,8,9,10]\n",
    "\n",
    "plt.subplot(1, 2, 1)\n",
    "plt.plot(epoch_list, train_epoch_losses, marker='o')\n",
    "plt.title('Total Training Loss per Epoch')\n",
    "plt.xlabel('Epoch')\n",
    "plt.ylabel('Loss')\n",
    "\n",
    "\n",
    "plt.subplot(1, 2, 2)\n",
    "plt.plot(epoch_list, train_exact_match_accuracies, marker='o', color='green')\n",
    "plt.title('Exact Match Accuracy per Epoch')\n",
    "plt.xlabel('Epoch')\n",
    "plt.ylabel('Accuracy')\n",
    "\n",
    "\n",
    "plt.tight_layout()\n",
    "plt.show()\n"
   ]
  },
  {
   "cell_type": "code",
   "execution_count": 15,
   "metadata": {
    "colab": {
     "base_uri": "https://localhost:8080/"
    },
    "id": "NL57MsgenG2l",
    "outputId": "9eb7120c-9c9d-4b7e-9e1d-8a3c99966ed0"
   },
   "outputs": [
    {
     "name": "stdout",
     "output_type": "stream",
     "text": [
      "Exact Match Accuracy: 0.7066\n",
      "Character-wise Accuracy: 0.9418\n"
     ]
    }
   ],
   "source": [
    "total = 0\n",
    "correct = 0\n",
    "char_total = 0\n",
    "char_correct = 0\n",
    "\n",
    "model.eval()\n",
    "with torch.no_grad():\n",
    "    for batch_features, batch_labels in test_loader:\n",
    "        batch_features, batch_labels = batch_features.to(device), batch_labels.to(device)\n",
    "\n",
    "        outputs = model(batch_features)  # [batch_size, captcha_length, num_classes]\n",
    "        predicted = torch.argmax(outputs, dim=2)  # [batch_size, captcha_length]\n",
    "\n",
    "        # Exact match (full captcha correct)\n",
    "        correct += (predicted == batch_labels).all(dim=1).sum().item()\n",
    "        total += batch_labels.size(0)\n",
    "\n",
    "        # Character-wise accuracy\n",
    "        char_correct += (predicted == batch_labels).sum().item()\n",
    "        char_total += batch_labels.numel()  # total characters = batch_size * captcha_length\n",
    "\n",
    "exact_match_acc_test = correct / total\n",
    "char_level_acc_test = char_correct / char_total\n",
    "\n",
    "print(f\"Exact Match Accuracy: {exact_match_acc_test:.4f}\")\n",
    "print(f\"Character-wise Accuracy: {char_level_acc_test:.4f}\")\n"
   ]
  },
  {
   "cell_type": "code",
   "execution_count": 16,
   "metadata": {
    "colab": {
     "base_uri": "https://localhost:8080/",
     "height": 507
    },
    "id": "WAs-odqnxDBB",
    "outputId": "4c356cee-01f0-4cab-dd5f-3b88a79331ec"
   },
   "outputs": [
    {
     "data": {
      "image/png": "[encoded data removed]",
      "text/plain": [
       "<Figure size 800x500 with 1 Axes>"
      ]
     },
     "metadata": {},
     "output_type": "display_data"
    }
   ],
   "source": [
    "import matplotlib.pyplot as plt\n",
    "\n",
    "test_char_accuracy = [char_level_acc_test]\n",
    "test_exact_match_accuracies = [exact_match_acc_test]\n",
    "\n",
    "labels = ['Character-wise', 'Exact Match']\n",
    "accuracies = [test_char_accuracy[0], test_exact_match_accuracies[0]]\n",
    "x = range(len(labels))\n",
    "\n",
    "plt.figure(figsize=(8, 5))\n",
    "plt.bar(x, accuracies, color=['orange', 'green'])\n",
    "plt.xticks(x, labels)\n",
    "\n",
    "plt.title('Test Accuracy: Exact Match vs Character-wise')\n",
    "plt.ylabel('Accuracy')\n",
    "plt.ylim(0, 1)\n",
    "plt.grid(axis='y')\n",
    "plt.tight_layout()\n",
    "plt.show()\n"
   ]
  },
  {
   "cell_type": "code",
   "execution_count": 17,
   "metadata": {
    "colab": {
     "base_uri": "https://localhost:8080/"
    },
    "id": "mcBlPq0bfQ9M",
    "outputId": "12ac3fe3-5ba4-4549-df44-2ff8dd02f55f"
   },
   "outputs": [
    {
     "name": "stdout",
     "output_type": "stream",
     "text": [
      "Model saved to resnet_captcha_model.pth\n"
     ]
    }
   ],
   "source": [
    "checkpoint_path = \"resnet_captcha_model.pth\"\n",
    "torch.save(model.state_dict(), checkpoint_path)\n",
    "print(f\"Model saved to {checkpoint_path}\")\n"
   ]
  },
  {
   "cell_type": "code",
   "execution_count": 18,
   "metadata": {
    "colab": {
     "base_uri": "https://localhost:8080/",
     "height": 34
    },
    "id": "g7nvnUyko8wp",
    "outputId": "7bafb16c-49d2-41f9-9eb6-91ad209b48c3"
   },
   "outputs": [
    {
     "data": {
      "text/html": [
       "<a href='resnet_captcha_model.pth' target='_blank'>resnet_captcha_model.pth</a><br>"
      ],
      "text/plain": [
       "/content/resnet_captcha_model.pth"
      ]
     },
     "execution_count": 18,
     "metadata": {},
     "output_type": "execute_result"
    }
   ],
   "source": [
    "from IPython.display import FileLink\n",
    "FileLink(\"resnet_captcha_model.pth\")\n"
   ]
  },
  {
   "cell_type": "code",
   "execution_count": null,
   "metadata": {
    "id": "UfwtUBIip8DO"
   },
   "outputs": [],
   "source": []
  }
 ],
 "metadata": {
  "accelerator": "GPU",
  "colab": {
   "gpuType": "T4",
   "provenance": []
  },
  "kernelspec": {
   "display_name": "Python 3 (ipykernel)",
   "language": "python",
   "name": "python3"
  },
  "language_info": {
   "codemirror_mode": {
    "name": "ipython",
    "version": 3
   },
   "file_extension": ".py",
   "mimetype": "text/x-python",
   "name": "python",
   "nbconvert_exporter": "python",
   "pygments_lexer": "ipython3",
   "version": "3.12.4"
  }
 },
 "nbformat": 4,
 "nbformat_minor": 4
}
